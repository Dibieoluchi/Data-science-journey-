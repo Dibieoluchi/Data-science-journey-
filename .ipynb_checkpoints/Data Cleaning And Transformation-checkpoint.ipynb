{
 "cells": [
  {
   "cell_type": "markdown",
   "id": "91c2de2f",
   "metadata": {},
   "source": [
    "Data cleaning And Transformation "
   ]
  },
  {
   "cell_type": "code",
   "execution_count": 1,
   "id": "6eac6297",
   "metadata": {},
   "outputs": [],
   "source": [
    "import sys\n",
    "import numpy as np\n",
    "import thinkstats2\n",
    "import thinkplot"
   ]
  },
  {
   "cell_type": "markdown",
   "id": "00aef22b",
   "metadata": {},
   "source": [
    "# READ DATA "
   ]
  },
  {
   "cell_type": "code",
   "execution_count": 2,
   "id": "84e0a912",
   "metadata": {},
   "outputs": [],
   "source": [
    "def ReadFemPreg(dct_file='2002FemPreg.dct',\n",
    "                dat_file='2002FemPreg.dat.gz'):\n",
    "    \"\"\"Reads the NSFG pregnancy data.\n",
    "\n",
    "    dct_file: string file name\n",
    "    dat_file: string file name\n",
    "\n",
    "    returns: DataFrame\n",
    "    \"\"\"\n",
    "    dct = thinkstats2.ReadStataDct(dct_file)\n",
    "    df = dct.ReadFixedWidth(dat_file, compression='gzip')\n",
    "    CleanFemPreg(df)\n",
    "    return df\n"
   ]
  },
  {
   "cell_type": "markdown",
   "id": "d2318a1a",
   "metadata": {},
   "source": [
    "This code defines a function called ReadFemPreg that reads and processes  our female pregnancy data ,  The function takes two optional arguments (dct_file and dat_file) specifying the file names for the data dictionary and data file, respectively.\n",
    "\n",
    "\n",
    "It reads the data dictionary (dct_file) using the thinkstats2.ReadStataDct function from our predefine thinkstat module .\n",
    "\n",
    "It reads the fixed-width data file (dat_file) using the information from the data dictionary, and the data is compressed using gzip.\n",
    "\n",
    "It cleans the pregnancy data using a function called CleanFemPreg.\n",
    "\n",
    "The cleaned data is then returned as a DataFrame."
   ]
  },
  {
   "cell_type": "markdown",
   "id": "bb3b95be",
   "metadata": {},
   "source": [
    "# Data Cleaning "
   ]
  },
  {
   "cell_type": "code",
   "execution_count": 3,
   "id": "ae65bb2e",
   "metadata": {},
   "outputs": [],
   "source": [
    "def Cleanfempreg(df):\n",
    "    \"\"\"Records variable from pregnancy.\n",
    "    df:DataFrame\n",
    "    \"\"\"\n",
    "    df.agepreg/100.0\n",
    "    df.loc[df.birthwght_lb>20,'birthwgt_lb'] = np.nan  #basically if the weight in pounds is greater than 20 then it is not a number\n",
    "    na_vals[97,98,99] # for the extreme weight value both in oumce and pounds that are obviously not possible to get for kids, replace with not a number\n",
    "    df.birthwgt_lb.replace(na_vals, np.nan, inplace= True) # for those in pounds\n",
    "    df.birthwgt_oz.replace(na_vals, np.nan, inplace = True) # for those in ounce\n",
    "    df.hpagelb.replace(na_vals, np.nan, inplace=True)\n",
    "    df.babysex.replace([7, 9], np.nan, inplace=True) # replace this values in the baby sex column with not a number\n",
    "    df.nbrnaliv.replace([9], np.nan, inplace=True)\n",
    "    df['totalwgt_lb'] = df.birthwgt_lb + df.birthwgt_oz/16.0 # we are converting the ounces to pound by dividing by 16, the add it to the wight already in pounce, then store them in a new column called totalwgt_lb\n",
    "    df.cmintvw = np.nan # setting all the in the cmintvw column to not a number "
   ]
  },
  {
   "cell_type": "markdown",
   "id": "6a1dd2ac",
   "metadata": {},
   "source": [
    "this code defines  a function called CleanFemPreg  that cleans up the data, data cleaning is the most crucial step in data scienec it can be used to check for mistakes, handling special values, changing data formats, and doing calculations.  \n",
    "\n",
    "this is what the function does : \n",
    "\n",
    "1. Dividing Age: The function takes the mother's age at the end of pregnancy (agepreg). In the data, it's stored in centiyears (which means each number is actually 100 times the actual age). The function fixes this by dividing each age by 100 to get the real age in years.\n",
    "\n",
    "2. Handling Baby Weight: The function deals with the baby's weight (birthwgt_lb and birthwgt_oz). For live births, it's given in pounds and ounces. However, there are special codes (97, 98, and 99) indicating cases where the weight couldn't be determined, was refused, or is unknown. The function replaces these special codes with a special value (np.nan), representing \"not a number.\" This prevents miscalculations, like saying a baby weighs 99 pounds.\n",
    "\n",
    "3. Combining Weight: The function creates a new column (totalwgt_lb) that combines the baby's weight in pounds and ounces into a single quantity, expressed in pounds."
   ]
  },
  {
   "cell_type": "markdown",
   "id": "7eb3fc1c",
   "metadata": {},
   "source": [
    "# Data validations"
   ]
  },
  {
   "cell_type": "markdown",
   "id": "3af0d822",
   "metadata": {},
   "source": [
    "When you get a new dataset, and you are moving it from software to software ,  you might misinterpret or introduce mistakes.\n",
    "To validate the data, you can compare it with published  information or basic statistics.\n",
    "the book cited an  example ,  the NSFG codebook includes tables summarizing each variable and columns, \n",
    "to validate our data , they  compared  the values in each column ofour dataset  (using value_counts method) with those foumd on the nsfg codebook \n",
    "https://www.cdc.gov/nchs/nsfg/nsfg_cycle6.htm\n"
   ]
  },
  {
   "cell_type": "markdown",
   "id": "f47e8e8b",
   "metadata": {},
   "source": [
    " for instance to check for the BIRTHWGT_LB1 represents the birth weight of the  baby in pounds \n",
    "\n",
    "this is how it looks on the code book: \n",
    "\n",
    "Value Label Total\n",
    "\n",
    ". inapplicable 4449\n",
    "\n",
    "0-5 UNDER 6 POUNDS 1125\n",
    "\n",
    "6 6 POUNDS 2223\n",
    "\n",
    "7 7 POUNDS 3049\n",
    "\n",
    "8 8 POUNDS 1889\n",
    "\n",
    "9-95 9 POUNDS OR MORE 799\n",
    "\n",
    "97 Not ascertained 1\n",
    "\n",
    "98 REFUSED 1\n",
    "\n",
    "99 DON'T KNOW 57\n",
    "\n",
    "Total 13593\n"
   ]
  },
  {
   "cell_type": "code",
   "execution_count": 8,
   "id": "ee394c35",
   "metadata": {},
   "outputs": [
    {
     "data": {
      "text/plain": [
       "8.0     1889\n",
       "7.0     3049\n",
       "6.0     2223\n",
       "4.0      229\n",
       "5.0      697\n",
       "10.0     132\n",
       "12.0      10\n",
       "14.0       3\n",
       "3.0       98\n",
       "1.0       40\n",
       "2.0       53\n",
       "0.0        8\n",
       "9.0      623\n",
       "11.0      26\n",
       "13.0       3\n",
       "15.0       1\n",
       "Name: birthwgt_lb, dtype: int64"
      ]
     },
     "execution_count": 8,
     "metadata": {},
     "output_type": "execute_result"
    }
   ],
   "source": [
    "import nsfg\n",
    "df = nsfg.ReadFemPreg()\n",
    "df.birthwgt_lb.value_counts(sort=False)"
   ]
  },
  {
   "cell_type": "markdown",
   "id": "57f39de4",
   "metadata": {},
   "source": [
    "if you add up the value of 0 to 5 pounds you would see the value adds up, 8,7,6 are correct for  the values of 9 above also adds up , this a way to validate your data "
   ]
  },
  {
   "cell_type": "code",
   "execution_count": null,
   "id": "bcdab20d",
   "metadata": {},
   "outputs": [],
   "source": []
  },
  {
   "cell_type": "code",
   "execution_count": null,
   "id": "22ad7203",
   "metadata": {},
   "outputs": [],
   "source": []
  },
  {
   "cell_type": "code",
   "execution_count": null,
   "id": "233f16b4",
   "metadata": {},
   "outputs": [],
   "source": []
  },
  {
   "cell_type": "code",
   "execution_count": null,
   "id": "c3184548",
   "metadata": {},
   "outputs": [],
   "source": []
  }
 ],
 "metadata": {
  "kernelspec": {
   "display_name": "Python 3 (ipykernel)",
   "language": "python",
   "name": "python3"
  },
  "language_info": {
   "codemirror_mode": {
    "name": "ipython",
    "version": 3
   },
   "file_extension": ".py",
   "mimetype": "text/x-python",
   "name": "python",
   "nbconvert_exporter": "python",
   "pygments_lexer": "ipython3",
   "version": "3.7.4"
  }
 },
 "nbformat": 4,
 "nbformat_minor": 5
}
