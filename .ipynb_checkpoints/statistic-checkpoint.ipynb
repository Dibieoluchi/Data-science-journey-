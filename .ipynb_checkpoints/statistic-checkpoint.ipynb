{
 "cells": [
  {
   "cell_type": "markdown",
   "id": "a82c5b7f",
   "metadata": {},
   "source": [
    "# A statistical Approach \n",
    "\n",
    "i am documenting my statistic journey using the book Think Stats By Allen B. Downey\n",
    "this is the github repo where you can get the data for used in this book https://github.com/AllenDowney/ThinkStats2/tree/master"
   ]
  },
  {
   "cell_type": "markdown",
   "id": "1ef625ab",
   "metadata": {},
   "source": [
    "1. Data Collection:Data collection is the process of gathering and measuring information on variables of interest in a systematic and organized manner. It involves the collection of data points or observations to support research, analysis, or decision-making.\n",
    "\n",
    "\n",
    "2. Descriptive Statistics: Descriptive statistics involves the use of numerical and graphical methods to summarize and describe the main features of a dataset. This includes measures such as mean, median, mode, range, variance, and standard deviation. Descriptive statistics help in simplifying large amounts of data and making it more understandable.\n",
    "\n",
    "\n",
    "3. Exploratory Data Analysis (EDA): Exploratory Data Analysis is an approach to analyzing data sets to summarize their main characteristics, often with the help of statistical graphics and other data visualization methods. The primary goal is to gain insights, identify patterns, and generate hypotheses that can inform further analysis or research.\n",
    "\n",
    "\n",
    "4. Estimation: Estimation in statistics refers to the process of using sample data to make inferences about the characteristics of a population. It involves estimating population parameters, such as means or proportions, based on sample statistics. Common methods of estimation include point estimation and interval estimation.\n",
    "\n",
    "\n",
    "5. Hypothesis Testing: Hypothesis testing is a statistical method used to make inferences about a population based on a sample of data. It involves formulating a hypothesis about a population parameter, collecting and analyzing data, and then using statistical tests to assess the evidence against or in favor of the hypothesis. The goal is to make decisions about whether to accept or reject a null hypothesis in favor of an alternative hypothesis."
   ]
  },
  {
   "cell_type": "markdown",
   "id": "835d9e70",
   "metadata": {},
   "source": [
    "The data used in this study, according to Allen B. Downey, is sourced from the National Survey of Family Growth (NSFG) Cycle 6, conducted from January 2002 to March 2003. Notably, the NSFG adopts a cross-sectional study design, providing a snapshot of a specific group at a particular moment in time,  as opposed to longitudinal studies that observe a group over time.\n",
    "\n",
    "objectivess: data aims to draw conclusions about the U.S. population aged 15-44. Ideally, surveys would collect data from every individual, but this is challenging. Instead, data is collected from a subset, called a sample, with participants referred to as respondents.\n",
    "\n",
    "Cross-sectional studies aim for representativeness, ensuring every member of the target population has an equal chance of participating. However, achieving perfect representation is difficult. so the  NSFG intentionally oversamples three groups\n",
    "1. Hispanics, \n",
    "2. African-Americans, and\n",
    "3. teenagers to ensure enough data for valid statistical inferences within these categories.\n"
   ]
  },
  {
   "cell_type": "code",
   "execution_count": null,
   "id": "44316b18",
   "metadata": {},
   "outputs": [],
   "source": []
  },
  {
   "cell_type": "markdown",
   "id": "b7131823",
   "metadata": {},
   "source": []
  }
 ],
 "metadata": {
  "kernelspec": {
   "display_name": "Python 3 (ipykernel)",
   "language": "python",
   "name": "python3"
  },
  "language_info": {
   "codemirror_mode": {
    "name": "ipython",
    "version": 3
   },
   "file_extension": ".py",
   "mimetype": "text/x-python",
   "name": "python",
   "nbconvert_exporter": "python",
   "pygments_lexer": "ipython3",
   "version": "3.7.4"
  }
 },
 "nbformat": 4,
 "nbformat_minor": 5
}
