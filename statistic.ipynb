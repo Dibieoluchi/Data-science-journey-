{
 "cells": [
  {
   "cell_type": "markdown",
   "id": "a82c5b7f",
   "metadata": {},
   "source": [
    "# A statistical Approach \n",
    "\n",
    "i am documenting my statistic journey using the book Think Stats By Allen B. Downey\n",
    "this is the github repo where you can get the data for used in this book https://github.com/AllenDowney/ThinkStats2/tree/master"
   ]
  },
  {
   "cell_type": "markdown",
   "id": "1ef625ab",
   "metadata": {},
   "source": [
    "1. Data Collection:Data collection is the process of gathering and measuring information on variables of interest in a systematic and organized manner. It involves the collection of data points or observations to support research, analysis, or decision-making.\n",
    "\n",
    "\n",
    "2. Descriptive Statistics: Descriptive statistics involves the use of numerical and graphical methods to summarize and describe the main features of a dataset. This includes measures such as mean, median, mode, range, variance, and standard deviation. Descriptive statistics help in simplifying large amounts of data and making it more understandable.\n",
    "\n",
    "\n",
    "3. Exploratory Data Analysis (EDA): Exploratory Data Analysis is an approach to analyzing data sets to summarize their main characteristics, often with the help of statistical graphics and other data visualization methods. The primary goal is to gain insights, identify patterns, and generate hypotheses that can inform further analysis or research.\n",
    "\n",
    "\n",
    "4. Estimation: Estimation in statistics refers to the process of using sample data to make inferences about the characteristics of a population. It involves estimating population parameters, such as means or proportions, based on sample statistics. Common methods of estimation include point estimation and interval estimation.\n",
    "\n",
    "\n",
    "5. Hypothesis Testing: Hypothesis testing is a statistical method used to make inferences about a population based on a sample of data. It involves formulating a hypothesis about a population parameter, collecting and analyzing data, and then using statistical tests to assess the evidence against or in favor of the hypothesis. The goal is to make decisions about whether to accept or reject a null hypothesis in favor of an alternative hypothesis."
   ]
  },
  {
   "cell_type": "markdown",
   "id": "835d9e70",
   "metadata": {},
   "source": [
    "The data used in this study, according to Allen B. Downey, is sourced from the National Survey of Family Growth (NSFG) Cycle 6, conducted from January 2002 to March 2003. Notably, the NSFG adopts a cross-sectional study design, providing a snapshot of a specific group at a particular moment in time,  as opposed to longitudinal studies that observe a group over time.\n",
    "\n",
    "objectivess: data aims to draw conclusions about the U.S. population aged 15-44. Ideally, surveys would collect data from every individual, but this is challenging. Instead, data is collected from a subset, called a sample, with participants referred to as respondents.\n",
    "\n",
    "Cross-sectional studies aim for representativeness, ensuring every member of the target population has an equal chance of participating. However, achieving perfect representation is difficult. so the  NSFG intentionally oversamples three groups\n",
    "1. Hispanics, \n",
    "2. African-Americans, and\n",
    "3. teenagers to ensure enough data for valid statistical inferences within these categories.\n"
   ]
  },
  {
   "cell_type": "markdown",
   "id": "2fd723bb",
   "metadata": {},
   "source": [
    "the dataset downloaded was store in a dictionary file and a data file called '2002FemResp.dct', and '2002FemResp.dat.gz' respectively to read this file , a series of function was created using python def function and also i installed the sys library and thinkstats2 module from allen github repo "
   ]
  },
  {
   "cell_type": "code",
   "execution_count": 1,
   "id": "43040ebd",
   "metadata": {},
   "outputs": [],
   "source": [
    "import sys\n",
    "import numpy as np"
   ]
  },
  {
   "cell_type": "code",
   "execution_count": 5,
   "id": "83333366",
   "metadata": {},
   "outputs": [
    {
     "ename": "ModuleNotFoundError",
     "evalue": "No module named 'thinkplot'",
     "output_type": "error",
     "traceback": [
      "\u001b[1;31m---------------------------------------------------------------------------\u001b[0m",
      "\u001b[1;31mModuleNotFoundError\u001b[0m                       Traceback (most recent call last)",
      "\u001b[1;32m~\\AppData\\Local\\Temp/ipykernel_16188/857512972.py\u001b[0m in \u001b[0;36m<module>\u001b[1;34m\u001b[0m\n\u001b[0;32m      1\u001b[0m \u001b[1;32mimport\u001b[0m \u001b[0msys\u001b[0m\u001b[1;33m\u001b[0m\u001b[1;33m\u001b[0m\u001b[0m\n\u001b[0;32m      2\u001b[0m \u001b[0msys\u001b[0m\u001b[1;33m.\u001b[0m\u001b[0mpath\u001b[0m\u001b[1;33m.\u001b[0m\u001b[0mappend\u001b[0m\u001b[1;33m(\u001b[0m\u001b[1;34mr'C:\\Users\\HP\\Downloads'\u001b[0m\u001b[1;33m)\u001b[0m\u001b[1;33m\u001b[0m\u001b[1;33m\u001b[0m\u001b[0m\n\u001b[1;32m----> 3\u001b[1;33m \u001b[1;32mimport\u001b[0m \u001b[0mthinkstats2\u001b[0m\u001b[1;33m\u001b[0m\u001b[1;33m\u001b[0m\u001b[0m\n\u001b[0m",
      "\u001b[1;32m~\\Desktop\\desktop\\Data-science-journey-\\thinkstats2.py\u001b[0m in \u001b[0;36m<module>\u001b[1;34m\u001b[0m\n\u001b[0;32m     30\u001b[0m \u001b[1;32mfrom\u001b[0m \u001b[0moperator\u001b[0m \u001b[1;32mimport\u001b[0m \u001b[0mitemgetter\u001b[0m\u001b[1;33m\u001b[0m\u001b[1;33m\u001b[0m\u001b[0m\n\u001b[0;32m     31\u001b[0m \u001b[1;33m\u001b[0m\u001b[0m\n\u001b[1;32m---> 32\u001b[1;33m \u001b[1;32mimport\u001b[0m \u001b[0mthinkplot\u001b[0m\u001b[1;33m\u001b[0m\u001b[1;33m\u001b[0m\u001b[0m\n\u001b[0m\u001b[0;32m     33\u001b[0m \u001b[1;33m\u001b[0m\u001b[0m\n\u001b[0;32m     34\u001b[0m \u001b[1;32mimport\u001b[0m \u001b[0mnumpy\u001b[0m \u001b[1;32mas\u001b[0m \u001b[0mnp\u001b[0m\u001b[1;33m\u001b[0m\u001b[1;33m\u001b[0m\u001b[0m\n",
      "\u001b[1;31mModuleNotFoundError\u001b[0m: No module named 'thinkplot'"
     ]
    }
   ],
   "source": [
    "import sys\n",
    "sys.path.append(r'C:\\Users\\HP\\Downloads')\n",
    "import thinkstats2\n"
   ]
  },
  {
   "cell_type": "code",
   "execution_count": null,
   "id": "9f4e234c",
   "metadata": {},
   "outputs": [],
   "source": []
  }
 ],
 "metadata": {
  "kernelspec": {
   "display_name": "Python 3 (ipykernel)",
   "language": "python",
   "name": "python3"
  },
  "language_info": {
   "codemirror_mode": {
    "name": "ipython",
    "version": 3
   },
   "file_extension": ".py",
   "mimetype": "text/x-python",
   "name": "python",
   "nbconvert_exporter": "python",
   "pygments_lexer": "ipython3",
   "version": "3.7.4"
  }
 },
 "nbformat": 4,
 "nbformat_minor": 5
}
